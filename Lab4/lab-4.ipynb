{
 "cells": [
  {
   "cell_type": "markdown",
   "metadata": {
    "deletable": true,
    "editable": true
   },
   "source": [
    "# Learning and Decision Making"
   ]
  },
  {
   "cell_type": "markdown",
   "metadata": {
    "deletable": true,
    "editable": true
   },
   "source": [
    "## Laboratory 4: Partially observable Markov decision problems\n",
    "\n",
    "In the end of the lab, you should submit all code/answers written in the tasks marked as \"Activity n. XXX\", together with the corresponding outputs and any replies to specific questions posed to the e-mail <adi.tecnico@gmail.com>. Make sure that the subject is of the form [&lt;group n.&gt;] LAB &lt;lab n.&gt;."
   ]
  },
  {
   "cell_type": "markdown",
   "metadata": {
    "deletable": true,
    "editable": true
   },
   "source": [
    "### 1. Modeling\n",
    "\n",
    "Consider once again the guessing game domain described in the Homework and which you described as a POMDP.\n",
    "\n",
    "Recall that:\n",
    "\n",
    "* The opponent can hold one of two cards in hand: an Ace of Clubs (A&clubs;) and an Ace of Diamonds (A&diams;). The agent must guess which card the opponent is holding. \n",
    "\n",
    "* For every right answer, the agent wins 1EUR, and every wrong answer costs the agent 1EUR. \n",
    "\n",
    "* The agent can also try to _peek_. \n",
    "\n",
    "* When the agent peeks, it sees the right card with a probability of 0.9 and the wrong card with probability 0.1.\n",
    "\n",
    "* The game restarts whenever the agent makes a guess.\n",
    "\n",
    "Consider throughout that $\\gamma=0.9$."
   ]
  },
  {
   "cell_type": "markdown",
   "metadata": {
    "deletable": true,
    "editable": true
   },
   "source": [
    "---\n",
    "\n",
    "#### Activity 1.        \n",
    "\n",
    "Implement your POMDP in Python. In particular,\n",
    "\n",
    "* Create a list with all the states;\n",
    "* Create a list with all the actions;\n",
    "* Create a list with all the observations\n",
    "* For each action, define a `numpy` array with the corresponding transition probabilities;\n",
    "* For each action, define a `numpy` array with the corresponding observation probabilities;\n",
    "* Define a `numpy`array with the cost that you defined in your homework.\n",
    "\n",
    "The order for the states and actions used in the transition probability and cost matrices should match that in the lists of states and actions. \n",
    "\n",
    "**Note**: Don't forget to import `numpy`.\n",
    "\n",
    "---"
   ]
  },
  {
   "cell_type": "code",
   "execution_count": 36,
   "metadata": {
    "collapsed": false,
    "deletable": true,
    "editable": true,
    "scrolled": false
   },
   "outputs": [],
   "source": [
    "# Insert your code here\n",
    "import numpy as np\n",
    "\n",
    "states = [\"Clubs\" , \"Diamonds\"]\n",
    "\n",
    "actions = [\"SelectClubs\", \"SelectDiamonds\", \"Peek\"]\n",
    "\n",
    "observations = [\"Clubs\", \"Diamonds\"]\n",
    "\n",
    "P_Peek = np.array([[1, 0], [0, 1]])\n",
    "\n",
    "P_Clubs = np.array([[0.5, 0.5], [0.5, 0.5]])\n",
    "\n",
    "P_Diamonds = np.array([[0.5, 0.5], [0.5, 0.5]])\n",
    "\n",
    "\n",
    "O_Peek = np.array([[0.9, 0.1], [0.1, 0.9]])\n",
    "\n",
    "O_Clubs = np.array([[0.5, 0.5], [0.5, 0.5]])\n",
    "\n",
    "O_Diamonds = np.array([[0.5, 0.5], [0.5, 0.5]])\n",
    "\n",
    "Cost = np.array([[0, 1, 0.1], [1, 0, 0.1]])\n",
    "\n"
   ]
  },
  {
   "cell_type": "markdown",
   "metadata": {
    "deletable": true,
    "editable": true
   },
   "source": [
    "### 2. Sampling\n",
    "\n",
    "You are now going to sample random trajectories of your POMDP and observe the impact it has on the corresponding belief."
   ]
  },
  {
   "cell_type": "markdown",
   "metadata": {
    "deletable": true,
    "editable": true,
    "raw_mimetype": "text/latex"
   },
   "source": [
    "---\n",
    "\n",
    "#### Activity 2.\n",
    "\n",
    "Generate a random POMDP trajectory using a uniformly random policy. In particular, from a random initial state $x_0$ generate:\n",
    "\n",
    "1. A sequence of 10,000 states by selecting the actions uniformly at random;\n",
    "2. The corresponding sequence of 10,000 actions;\n",
    "3. The corresponding sequence of 10,000 observations.\n",
    "\n",
    "---"
   ]
  },
  {
   "cell_type": "code",
   "execution_count": 45,
   "metadata": {
    "collapsed": false,
    "deletable": true,
    "editable": true
   },
   "outputs": [
    {
     "name": "stdout",
     "output_type": "stream",
     "text": [
      "STATES(carta que esta na mao do oponente)\n",
      "\n",
      "['Diamonds']\n",
      "['Diamonds']\n",
      "['Clubs']\n",
      "['Clubs']\n",
      "['Clubs']\n",
      "['Clubs']\n",
      "['Clubs']\n",
      "['Clubs']\n",
      "['Clubs']\n",
      "['Diamonds']\n",
      "['Clubs']\n",
      "['Diamonds']\n",
      "['Clubs']\n",
      "['Diamonds']\n",
      "['Clubs']\n",
      "['Clubs']\n",
      "['Diamonds']\n",
      "['Clubs']\n",
      "['Diamonds']\n",
      "['Diamonds']\n",
      "['Clubs']\n",
      "['Diamonds']\n",
      "['Diamonds']\n",
      "['Clubs']\n",
      "['Clubs']\n",
      "\n",
      "ACTIONS(accao que o agente escolhe)\n",
      "\n",
      "['Peek']\n",
      "['SelectDiamonds']\n",
      "['SelectDiamonds']\n",
      "['Peek']\n",
      "['SelectDiamonds']\n",
      "['SelectClubs']\n",
      "['Peek']\n",
      "['SelectClubs']\n",
      "['SelectDiamonds']\n",
      "['SelectClubs']\n",
      "['SelectDiamonds']\n",
      "['SelectDiamonds']\n",
      "['SelectDiamonds']\n",
      "['SelectDiamonds']\n",
      "['SelectDiamonds']\n",
      "['SelectClubs']\n",
      "['SelectDiamonds']\n",
      "['Peek']\n",
      "['SelectClubs']\n",
      "['SelectClubs']\n",
      "['SelectClubs']\n",
      "['SelectClubs']\n",
      "['SelectClubs']\n",
      "['Peek']\n",
      "['Peek']\n",
      "\n",
      "OBSERVATIONS(observacao que o agente faz)\n",
      "\n",
      "['Diamonds']\n",
      "['Diamonds']\n",
      "['Clubs']\n",
      "['Clubs']\n",
      "['Clubs']\n",
      "['Clubs']\n",
      "['Clubs']\n",
      "['Clubs']\n",
      "['Clubs']\n",
      "['Diamonds']\n",
      "['Clubs']\n",
      "['Diamonds']\n",
      "['Clubs']\n",
      "['Diamonds']\n",
      "['Clubs']\n",
      "['Clubs']\n",
      "['Diamonds']\n",
      "['Clubs']\n",
      "['Diamonds']\n",
      "['Diamonds']\n",
      "['Clubs']\n",
      "['Diamonds']\n",
      "['Diamonds']\n",
      "['Clubs']\n",
      "['Clubs']\n"
     ]
    }
   ],
   "source": [
    "# Insert your code here\n",
    "\n",
    "import numpy as np\n",
    "\n",
    "t = 0\n",
    "\n",
    "sequence_states = []\n",
    "sequence_actions = []\n",
    "sequence_observations = []\n",
    "\n",
    "while t<25:\n",
    "    \n",
    "    state = np.random.choice(states,1, replace=False)\n",
    "    action = np.random.choice(actions,1, replace=False)\n",
    "    \n",
    "    if state == \"Clubs\":\n",
    "        observation_probabilities = O_Peek[:,0] # [0.9]\n",
    "                                                # [0.1]\n",
    "    else:\n",
    "        observation_probabilities = O_Peek[:,1] # [0.1]\n",
    "                                                # [0.9]\n",
    "    if action == \"Peek\":\n",
    "        observation = np.random.choice(observations,1, replace=False, p=observation_probabilities)\n",
    "    else:\n",
    "        observation = state # se a accao for adivinhar uma carta a nossa observacao\n",
    "                            # vai ser igual ao estado (que e a carta que esta na mao do oponente)\n",
    "\n",
    "    sequence_states += [state]\n",
    "    sequence_actions += [action]\n",
    "    sequence_observations += [observation]\n",
    "    t+=1\n",
    "    \n",
    "print \"STATES(carta que esta na mao do oponente)\\n\"\n",
    "for i in sequence_states:\n",
    "    print i\n",
    "print \"\\nACTIONS(accao que o agente escolhe)\\n\"    \n",
    "for i in sequence_actions:\n",
    "    print i\n",
    "print \"\\nOBSERVATIONS(observacao que o agente faz)\\n\"\n",
    "for i in sequence_observations:\n",
    "    print i"
   ]
  },
  {
   "cell_type": "markdown",
   "metadata": {
    "deletable": true,
    "editable": true
   },
   "source": [
    "---\n",
    "\n",
    "#### Activity 3.\n",
    "\n",
    "For the POMDP trajectory generated in Activity 2, compute the corresponding sequence of beliefs, assuming that the initial belief is $\\mathbf{b}_0=[0.5, 0.5]$. Report the resulting beliefs, ignoring duplicate beliefs or beliefs whose distance is smaller than $10^{-4}$.\n",
    "\n",
    "**Note 1:** You may want to define a function `belief_update` that receives a belief, an action and an observation and returns the updated belief.\n",
    "\n",
    "**Note 2:** To compute the distance between vectors, you may find useful `numpy`'s function `linalg.norm`.\n",
    "\n",
    "\n",
    "---"
   ]
  },
  {
   "cell_type": "code",
   "execution_count": 81,
   "metadata": {
    "collapsed": false,
    "deletable": true,
    "editable": true,
    "scrolled": false
   },
   "outputs": [
    {
     "name": "stdout",
     "output_type": "stream",
     "text": [
      "[[ 0.20588235  0.79411765]]\n"
     ]
    }
   ],
   "source": [
    "# Insert your code here\n",
    "\n",
    "\n",
    "initial_belief = np.array([[0.7, 0.3]]) # mudar para [0.5, 0.5]\n",
    "\n",
    "def belief_update(belief, action, observation):\n",
    "        \n",
    "    if action == \"Peek\":\n",
    "        \n",
    "        Pa = P_Peek\n",
    "        \n",
    "        if observation == \"Clubs\":\n",
    "            Diag_O = np.diag(O_Peek[:,0])\n",
    "        else:\n",
    "            Diag_O = np.diag(O_Peek[:,1])\n",
    "            \n",
    "    elif action == \"SelectClubs\" or action ==\"SelectDiamonds\":\n",
    "        \n",
    "        Pa = P_Clubs # Clubs e Diamonds tem P iguais por isso nao faz diferenca\n",
    "        \n",
    "        if observation == \"Clubs\":\n",
    "            Diag_O = np.diag(O_Peek[:,0])\n",
    "        else:\n",
    "            Diag_O = np.diag(O_Peek[:,1])\n",
    "\n",
    "    \n",
    "    aux1 = np.dot(belief, Pa * Diag_O) # belief * Pa * Diag_O\n",
    "    aux2 = aux1[:,0] + aux1[:,1] # [a, b] --> a+b\n",
    "\n",
    "    \n",
    "    updated_belief = aux1/aux2\n",
    "    \n",
    "    return updated_belief\n",
    " \n",
    "print belief_update(initial_belief,\"Peek\",\"Diamonds\")"
   ]
  },
  {
   "cell_type": "markdown",
   "metadata": {
    "deletable": true,
    "editable": true
   },
   "source": [
    "### 3. Solution methods\n",
    "\n",
    "In this section you are going to compare different non-exact solution methods."
   ]
  },
  {
   "cell_type": "markdown",
   "metadata": {
    "deletable": true,
    "editable": true
   },
   "source": [
    "---\n",
    "\n",
    "#### Activity 4\n",
    "\n",
    "Compute the solution for the underlying MDP and report the corresponding optimal policy and optimal cost-to-go. \n",
    "\n",
    "** Note:** You may reuse code from previous labs.\n",
    "\n",
    "---"
   ]
  },
  {
   "cell_type": "code",
   "execution_count": 68,
   "metadata": {
    "collapsed": false,
    "deletable": true,
    "editable": true,
    "scrolled": false
   },
   "outputs": [
    {
     "name": "stdout",
     "output_type": "stream",
     "text": [
      "[[ 0.31622777  0.9486833 ]]\n",
      "3.16227766017\n"
     ]
    }
   ],
   "source": [
    "# Insert your code here\n",
    "\n",
    "# TESTING RANDOM STUFF\n",
    "test = np.array([[1, 3]])\n",
    "\n",
    "aux = test[:,0]+test[:,1]\n",
    "\n",
    "result = test/np.linalg.norm(test)\n",
    "\n",
    "print result\n",
    "\n",
    "print np.linalg.norm(test)\n",
    "\n",
    "\n"
   ]
  },
  {
   "cell_type": "markdown",
   "metadata": {
    "deletable": true,
    "editable": true
   },
   "source": [
    "---\n",
    "\n",
    "#### Activity 5\n",
    "\n",
    "For each of the beliefs computed in Activity 3, compute the action prescribed by:\n",
    "\n",
    "* The MLS heuristic;\n",
    "* The AV heuristic;\n",
    "* The Q-MDP heuristic.\n",
    "\n",
    "---"
   ]
  },
  {
   "cell_type": "code",
   "execution_count": null,
   "metadata": {
    "collapsed": false,
    "deletable": true,
    "editable": true,
    "scrolled": false
   },
   "outputs": [],
   "source": [
    "# Insert your code here"
   ]
  },
  {
   "cell_type": "markdown",
   "metadata": {
    "deletable": true,
    "editable": true
   },
   "source": [
    "---\n",
    "\n",
    "#### Activity 6\n",
    "\n",
    "Suppose that the optimal cost-to-go function for the POMDP can be represented using the $\\alpha$-vectors\n",
    "\n",
    "$$\n",
    "\\left\\{\n",
    "\\begin{bmatrix}\n",
    "2.795\\\\\n",
    "3.795\n",
    "\\end{bmatrix},\n",
    "\\begin{bmatrix}\n",
    "3.795\\\\\n",
    "2.795\n",
    "\\end{bmatrix},\n",
    "\\begin{bmatrix}\n",
    "3.105\\\\\n",
    "3.105\n",
    "\\end{bmatrix}\\right\\}$$\n",
    "\n",
    "corresponding to the actions 'Guess clubs', 'Guess diamonds' and 'Peek', respectively. Represent the optimal cost-to-go function and compare the optimal policy with the MDP heuristics from Activity 5 in the beliefs computed in Activity 3.\n",
    "\n",
    "** Note: ** Don't forget to import `matplotlib`, and use the magic `%matplotlib notebook`.\n",
    "\n",
    "---"
   ]
  },
  {
   "cell_type": "code",
   "execution_count": null,
   "metadata": {
    "collapsed": false,
    "deletable": true,
    "editable": true,
    "scrolled": false
   },
   "outputs": [],
   "source": [
    "# Insert your code here"
   ]
  }
 ],
 "metadata": {
  "anaconda-cloud": {},
  "celltoolbar": "Raw Cell Format",
  "kernelspec": {
   "display_name": "Python [conda root]",
   "language": "python",
   "name": "conda-root-py"
  },
  "language_info": {
   "codemirror_mode": {
    "name": "ipython",
    "version": 2
   },
   "file_extension": ".py",
   "mimetype": "text/x-python",
   "name": "python",
   "nbconvert_exporter": "python",
   "pygments_lexer": "ipython2",
   "version": "2.7.12"
  }
 },
 "nbformat": 4,
 "nbformat_minor": 0
}
