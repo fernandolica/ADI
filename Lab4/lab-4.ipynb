{
 "cells": [
  {
   "cell_type": "markdown",
   "metadata": {
    "deletable": true,
    "editable": true
   },
   "source": [
    "# Learning and Decision Making"
   ]
  },
  {
   "cell_type": "markdown",
   "metadata": {
    "deletable": true,
    "editable": true
   },
   "source": [
    "## Laboratory 4: Partially observable Markov decision problems\n",
    "\n",
    "In the end of the lab, you should submit all code/answers written in the tasks marked as \"Activity n. XXX\", together with the corresponding outputs and any replies to specific questions posed to the e-mail <adi.tecnico@gmail.com>. Make sure that the subject is of the form [&lt;group n.&gt;] LAB &lt;lab n.&gt;."
   ]
  },
  {
   "cell_type": "code",
   "execution_count": null,
   "metadata": {
    "collapsed": true,
    "deletable": true,
    "editable": true
   },
   "outputs": [],
   "source": [
    "### 1. Modeling\n",
    "\n",
    "Consider once again the guessing game domain described in the Homework and which you described as a POMDP.\n",
    "\n",
    "Recall that:\n",
    "\n",
    "* The opponent can hold one of two cards in hand: an Ace of Clubs (A&clubs;) and an Ace of Diamonds (A&diams;). The agent must guess which card the opponent is holding. \n",
    "\n",
    "* For every right answer, the agent wins 1EUR, and every wrong answer costs the agent 1EUR. \n",
    "\n",
    "* The agent can also try to _peek_. \n",
    "\n",
    "* When the agent peeks, it sees the right card with a probability of 0.9 and the wrong card with probability 0.1.\n",
    "\n",
    "* The game restarts whenever the agent makes a guess.\n",
    "\n",
    "Consider throughout that $\\gamma=0.9$."
   ]
  },
  {
   "cell_type": "markdown",
   "metadata": {
    "deletable": true,
    "editable": true
   },
   "source": [
    "---\n",
    "\n",
    "#### Activity 1.        \n",
    "\n",
    "Implement your POMDP in Python. In particular,\n",
    "\n",
    "* Create a list with all the states;\n",
    "* Create a list with all the actions;\n",
    "* Create a list with all the observations\n",
    "* For each action, define a `numpy` array with the corresponding transition probabilities;\n",
    "* For each action, define a `numpy` array with the corresponding observation probabilities;\n",
    "* Define a `numpy`array with the cost that you defined in your homework.\n",
    "\n",
    "The order for the states and actions used in the transition probability and cost matrices should match that in the lists of states and actions. \n",
    "\n",
    "**Note**: Don't forget to import `numpy`.\n",
    "\n",
    "---"
   ]
  },
  {
   "cell_type": "code",
   "execution_count": 89,
   "metadata": {
    "collapsed": false,
    "deletable": true,
    "editable": true,
    "scrolled": false
   },
   "outputs": [],
   "source": [
    "# Insert your code here\n",
    "import numpy as np\n",
    "\n",
    "states = [\"Clubs\" , \"Diamonds\"]\n",
    "\n",
    "actions = [\"SelectClubs\", \"SelectDiamonds\", \"Peek\"]\n",
    "\n",
    "observations = [\"Clubs\", \"Diamonds\"]\n",
    "\n",
    "P_Peek = np.array([[1, 0], [0, 1]])\n",
    "\n",
    "P_Clubs = np.array([[0.5, 0.5], [0.5, 0.5]])\n",
    "\n",
    "P_Diamonds = np.array([[0.5, 0.5], [0.5, 0.5]])\n",
    "\n",
    "\n",
    "O_Peek = np.array([[0.9, 0.1], [0.1, 0.9]])\n",
    "\n",
    "O_Clubs = np.array([[0.5, 0.5], [0.5, 0.5]])\n",
    "\n",
    "O_Diamonds = np.array([[0.5, 0.5], [0.5, 0.5]])\n",
    "\n",
    "Cost = np.array([[0, 1, 0.1], [1, 0, 0.1]])\n",
    "\n"
   ]
  },
  {
   "cell_type": "markdown",
   "metadata": {
    "deletable": true,
    "editable": true
   },
   "source": [
    "### 2. Sampling\n",
    "\n",
    "You are now going to sample random trajectories of your POMDP and observe the impact it has on the corresponding belief."
   ]
  },
  {
   "cell_type": "markdown",
   "metadata": {
    "deletable": true,
    "editable": true,
    "raw_mimetype": "text/latex"
   },
   "source": [
    "---\n",
    "\n",
    "#### Activity 2.\n",
    "\n",
    "Generate a random POMDP trajectory using a uniformly random policy. In particular, from a random initial state $x_0$ generate:\n",
    "\n",
    "1. A sequence of 10,000 states by selecting the actions uniformly at random;\n",
    "2. The corresponding sequence of 10,000 actions;\n",
    "3. The corresponding sequence of 10,000 observations.\n",
    "\n",
    "---"
   ]
  },
  {
   "cell_type": "code",
   "execution_count": 289,
   "metadata": {
    "collapsed": false,
    "deletable": true,
    "editable": true
   },
   "outputs": [
    {
     "name": "stdout",
     "output_type": "stream",
     "text": [
      "STATES(carta que esta na mao do oponente)\n",
      "\n",
      "['Diamonds']\n",
      "['Diamonds']\n",
      "['Clubs']\n",
      "['Clubs']\n",
      "['Clubs']\n",
      "['Clubs']\n",
      "['Diamonds']\n",
      "['Clubs']\n",
      "['Clubs']\n",
      "['Clubs']\n",
      "['Clubs']\n",
      "['Clubs']\n",
      "['Diamonds']\n",
      "['Clubs']\n",
      "['Diamonds']\n",
      "['Diamonds']\n",
      "['Diamonds']\n",
      "['Diamonds']\n",
      "['Diamonds']\n",
      "['Diamonds']\n",
      "\n",
      "ACTIONS(accao que o agente escolhe)\n",
      "\n",
      "['Peek']\n",
      "['Peek']\n",
      "['Peek']\n",
      "['SelectDiamonds']\n",
      "['SelectClubs']\n",
      "['SelectClubs']\n",
      "['SelectDiamonds']\n",
      "['SelectDiamonds']\n",
      "['SelectDiamonds']\n",
      "['Peek']\n",
      "['Peek']\n",
      "['SelectDiamonds']\n",
      "['SelectDiamonds']\n",
      "['SelectDiamonds']\n",
      "['SelectClubs']\n",
      "['Peek']\n",
      "['SelectClubs']\n",
      "['SelectClubs']\n",
      "['SelectDiamonds']\n",
      "['SelectClubs']\n",
      "\n",
      "OBSERVATIONS(observacao que o agente faz)\n",
      "\n",
      "['Diamonds']\n",
      "['Diamonds']\n",
      "['Diamonds']\n",
      "['Clubs']\n",
      "['Clubs']\n",
      "['Clubs']\n",
      "['Diamonds']\n",
      "['Clubs']\n",
      "['Clubs']\n",
      "['Clubs']\n",
      "['Clubs']\n",
      "['Clubs']\n",
      "['Diamonds']\n",
      "['Clubs']\n",
      "['Diamonds']\n",
      "['Diamonds']\n",
      "['Diamonds']\n",
      "['Diamonds']\n",
      "['Diamonds']\n",
      "['Diamonds']\n",
      "done\n"
     ]
    }
   ],
   "source": [
    "# Insert your code here\n",
    "\n",
    "import numpy as np\n",
    "\n",
    "t = 0\n",
    "\n",
    "initial_policy = np.array([[1./3, 1./3, 1./3], [1./3, 1./3, 1./3]])\n",
    "\n",
    "sequence_states = []\n",
    "sequence_actions = []\n",
    "sequence_observations = []\n",
    "\n",
    "\n",
    "# DUVIDA: depois de fazermos peek e observarmos algo \n",
    "# temos de actualizar de novo a observacao quando o oponente mostra que carta tem ?\n",
    "\n",
    "while t<20:\n",
    "    \n",
    "    state = np.random.choice(states,1, replace=False)\n",
    "    action = np.random.choice(actions,1, replace=False)\n",
    "    \n",
    "    if state == \"Clubs\":\n",
    "        observation_probabilities = O_Peek[:,0] # [0.9]\n",
    "                                                # [0.1]\n",
    "    else:\n",
    "        observation_probabilities = O_Peek[:,1] # [0.1]\n",
    "                                                # [0.9]\n",
    "    if action == \"Peek\":\n",
    "        observation = np.random.choice(observations,1, replace=False, p=observation_probabilities)\n",
    "    else:\n",
    "        # V1\n",
    "        observation = state # se a accao for adivinhar uma carta a nossa observacao\n",
    "                            # vai ser igual ao estado (que e a carta que esta na mao do oponente)\n",
    "        # V2\n",
    "        #observation = np.random.choice(observations,1, replace=False, p=np.array([0.5, 0.5]))\n",
    "\n",
    "    sequence_states += [state]\n",
    "    sequence_actions += [action]\n",
    "    sequence_observations += [observation]\n",
    "    t+=1\n",
    "    \n",
    "    \n",
    "print \"STATES(carta que esta na mao do oponente)\\n\"\n",
    "for i in sequence_states:\n",
    "    print i\n",
    "print \"\\nACTIONS(accao que o agente escolhe)\\n\"    \n",
    "for i in sequence_actions:\n",
    "    print i\n",
    "print \"\\nOBSERVATIONS(observacao que o agente faz)\\n\"\n",
    "for i in sequence_observations:\n",
    "    print i\n",
    "\n",
    "print \"done\""
   ]
  },
  {
   "cell_type": "markdown",
   "metadata": {
    "deletable": true,
    "editable": true
   },
   "source": [
    "---\n",
    "\n",
    "#### Activity 3.\n",
    "\n",
    "For the POMDP trajectory generated in Activity 2, compute the corresponding sequence of beliefs, assuming that the initial belief is $\\mathbf{b}_0=[0.5, 0.5]$. Report the resulting beliefs, ignoring duplicate beliefs or beliefs whose distance is smaller than $10^{-4}$.\n",
    "\n",
    "**Note 1:** You may want to define a function `belief_update` that receives a belief, an action and an observation and returns the updated belief.\n",
    "\n",
    "**Note 2:** To compute the distance between vectors, you may find useful `numpy`'s function `linalg.norm`.\n",
    "\n",
    "\n",
    "---"
   ]
  },
  {
   "cell_type": "code",
   "execution_count": 334,
   "metadata": {
    "collapsed": false,
    "deletable": true,
    "editable": true,
    "scrolled": false
   },
   "outputs": [
    {
     "name": "stdout",
     "output_type": "stream",
     "text": [
      "[[ 0.5  0.5]]\n",
      "[[ 0.1  0.9]]\n",
      "[[ 0.012  0.988]]\n",
      "[[ 0.001  0.999]]\n",
      "[[ 0.012  0.988]]\n",
      "[[ 0.1  0.9]]\n",
      "[[ 0.5  0.5]]\n",
      "[[ 0.1  0.9]]\n",
      "[[ 0.5  0.5]]\n",
      "[[ 0.9  0.1]]\n",
      "[[ 0.988  0.012]]\n",
      "[[ 0.999  0.001]]\n",
      "[[  9.998e-01   1.524e-04]]\n",
      "[[ 0.999  0.001]]\n",
      "[[  9.998e-01   1.524e-04]]\n",
      "[[ 0.999  0.001]]\n",
      "[[ 0.988  0.012]]\n",
      "[[ 0.9  0.1]]\n",
      "[[ 0.5  0.5]]\n",
      "[[ 0.1  0.9]]\n",
      "\n",
      "belief list without repetitions:\n",
      "[[ 0.5  0.5]]\n",
      "[[ 0.1  0.9]]\n",
      "[[ 0.012  0.988]]\n",
      "[[ 0.001  0.999]]\n",
      "[[ 0.9  0.1]]\n",
      "[[ 0.988  0.012]]\n",
      "[[ 0.999  0.001]]\n",
      "[[  9.998e-01   1.524e-04]]\n",
      "[[ 0.999  0.001]]\n",
      "done\n"
     ]
    }
   ],
   "source": [
    "# Insert your code here\n",
    "\n",
    "\n",
    "initial_belief = np.array([[0.5, 0.5]])\n",
    "belief_list = [initial_belief]\n",
    "\n",
    "\n",
    "def belief_update(belief, action, observation):\n",
    "        \n",
    "    if action == \"Peek\":\n",
    "        \n",
    "        Pa = P_Peek\n",
    "        \n",
    "        if observation == \"Clubs\":\n",
    "            Diag_O = np.diag(O_Peek[:,0])\n",
    "        else:\n",
    "            Diag_O = np.diag(O_Peek[:,1])\n",
    "            \n",
    "    elif action == \"SelectClubs\" or action ==\"SelectDiamonds\":\n",
    "        \n",
    "        Pa = P_Clubs # Clubs e Diamonds tem P iguais por isso nao faz diferenca\n",
    "        \n",
    "        if observation == \"Clubs\":\n",
    "            Diag_O = np.diag(O_Peek[:,0])\n",
    "        else:\n",
    "            Diag_O = np.diag(O_Peek[:,1])\n",
    "\n",
    "    \n",
    "    aux1 = np.dot(belief, Pa * Diag_O) # belief * Pa * Diag_O\n",
    "    aux2 = aux1[:,0] + aux1[:,1] # [a, b] --> a+b\n",
    "\n",
    "    \n",
    "    updated_belief = aux1/aux2\n",
    "    \n",
    "    return updated_belief\n",
    " \n",
    "#print belief_update(initial_belief,\"Peek\",\"Diamonds\")\n",
    "\n",
    "########################################################################\n",
    "########################################################################\n",
    "########################################################################\n",
    "unique_belief_list = [initial_belief]\n",
    "\n",
    "\n",
    "for action, observation in zip(sequence_actions, sequence_observations):\n",
    "    \n",
    "    print initial_belief #so para a primeira belief aparecer tambem  \n",
    "    \n",
    "    new_belief = belief_update(initial_belief,action,observation)\n",
    "    \n",
    "    initial_belief = new_belief\n",
    "  \n",
    "    # CONFIRMAR ESTA CONDICAO\n",
    "    \n",
    "    \n",
    "    #print unique_belief_list\n",
    "    #print new_belief\n",
    "    #print np.all(unique_belief_list != new_belief)\n",
    "    if np.all(unique_belief_list != new_belief) and np.linalg.norm(new_belief) >= 1e-4:\n",
    "        unique_belief_list += [new_belief]\n",
    "        \n",
    "\n",
    "\n",
    "print \"\\nbelief list without repetitions:\"\n",
    "\n",
    "for i in unique_belief_list:\n",
    "    print i\n",
    "    \n",
    "print \"done\""
   ]
  },
  {
   "cell_type": "markdown",
   "metadata": {
    "deletable": true,
    "editable": true
   },
   "source": [
    "### 3. Solution methods\n",
    "\n",
    "In this section you are going to compare different non-exact solution methods."
   ]
  },
  {
   "cell_type": "markdown",
   "metadata": {
    "deletable": true,
    "editable": true
   },
   "source": [
    "---\n",
    "\n",
    "#### Activity 4\n",
    "\n",
    "Compute the solution for the underlying MDP and report the corresponding optimal policy and optimal cost-to-go. \n",
    "\n",
    "** Note:** You may reuse code from previous labs.\n",
    "\n",
    "---"
   ]
  },
  {
   "cell_type": "code",
   "execution_count": 342,
   "metadata": {
    "collapsed": false,
    "deletable": true,
    "editable": true,
    "scrolled": true
   },
   "outputs": [
    {
     "name": "stdout",
     "output_type": "stream",
     "text": [
      "Cost to Go:\n",
      "[[ 3.667]\n",
      " [ 3.667]]\n",
      "Optimal Policy:\n",
      "[[ 1.  0.  0.]\n",
      " [ 0.  1.  0.]]\n"
     ]
    }
   ],
   "source": [
    "import numpy as np\n",
    "from numpy.linalg import inv\n",
    "\n",
    "\n",
    "ident = np.eye(2)\n",
    "\n",
    "gamma = 0.9\n",
    "\n",
    "def calc_cost_to_go():\n",
    "    \n",
    "    pi = initial_policy\n",
    "    \n",
    "    # ja estao la em cima é so para me organizar melhor \n",
    "    P_Peek = np.array([[1, 0], [0, 1]])\n",
    "    P_Clubs = np.array([[0.5, 0.5], [0.5, 0.5]])\n",
    "    P_Diamonds = np.array([[0.5, 0.5], [0.5, 0.5]]) \n",
    "    \n",
    "    \n",
    "    C_Peek = Cost[:,0][np.newaxis, :].T\n",
    "    C_Clubs = Cost[:,1][np.newaxis, :].T\n",
    "    C_Diamonds = Cost[:,2][np.newaxis, :].T\n",
    "\n",
    "    \n",
    "    Ppi = np.diag(pi[:,0]).dot(P_Peek) + \\\n",
    "          np.diag(pi[:,1]).dot(P_Clubs) + \\\n",
    "          np.diag(pi[:,2]).dot(P_Diamonds)\n",
    "          \n",
    "    \n",
    "    Cpi = np.diag(pi[:,0]).dot(C_Peek) + \\\n",
    "          np.diag(pi[:,1]).dot(C_Clubs) + \\\n",
    "          np.diag(pi[:,2]).dot(C_Diamonds)\n",
    "          \n",
    "                \n",
    "    \n",
    "    J = np.linalg.inv(np.eye(2) - gamma * Ppi).dot(Cpi)\n",
    "    \n",
    "    return J\n",
    "\n",
    "##########################################################\n",
    "##########################################################\n",
    "Qpeek = []\n",
    "Qclubs = []\n",
    "Qdiamonds = []\n",
    "\n",
    "policy_J_optimal = np.zeros((2,2))\n",
    "\n",
    "def calc_pol_iter():\n",
    "    \n",
    "    pi = initial_policy\n",
    "    #pi = np.array([[0, 0, 0], [0, 0, 0]])\n",
    "    \n",
    "    # ja estao la em cima é so para me organizar melhor \n",
    "    P_Peek = np.array([[1, 0], [0, 1]])\n",
    "    P_Clubs = np.array([[0.5, 0.5], [0.5, 0.5]])\n",
    "    P_Diamonds = np.array([[0.5, 0.5], [0.5, 0.5]]) \n",
    "    \n",
    "    C_Peek = Cost[:,0]\n",
    "    C_Clubs = Cost[:,1]\n",
    "    C_Diamonds = Cost[:,2]\n",
    "\n",
    "    \n",
    "    quit = False \n",
    "    \n",
    "    while not quit:\n",
    "        \n",
    "\n",
    "        Ppi = np.diag(pi[:,0]).dot(P_Peek) + \\\n",
    "              np.diag(pi[:,1]).dot(P_Clubs) + \\\n",
    "              np.diag(pi[:,2]).dot(P_Diamonds)\n",
    "\n",
    "\n",
    "        Cpi = np.diag(pi[:,0]).dot(C_Peek) + \\\n",
    "              np.diag(pi[:,1]).dot(C_Clubs) + \\\n",
    "              np.diag(pi[:,2]).dot(C_Diamonds)\n",
    "                \n",
    "        J = np.linalg.inv(np.eye(2) - gamma * Ppi).dot(Cpi)\n",
    "        \n",
    "        Qpeek = C_Peek+ gamma * P_Peek.dot(J)\n",
    "        Qclubs = C_Clubs + gamma * P_Clubs.dot(J)\n",
    "        Qdiamonds = C_Diamonds + gamma * P_Diamonds.dot(J)\n",
    "        \n",
    "        \n",
    "        pinew = np.zeros((2,3))\n",
    "        \n",
    "        \n",
    "        pinew[:,0] = np.isclose(Qpeek, np.min([Qpeek, Qclubs, Qdiamonds], axis=0), atol=1e-10, rtol=1e-10).astype(int)\n",
    "        pinew[:,1] = np.isclose(Qclubs, np.min([Qpeek, Qclubs, Qdiamonds], axis=0), atol=1e-10, rtol=1e-10).astype(int)\n",
    "        pinew[:,2] = np.isclose(Qdiamonds, np.min([Qpeek, Qclubs, Qdiamonds], axis=0), atol=1e-10, rtol=1e-10).astype(int)        \n",
    "    \n",
    "        pinew = pinew / np.sum(pinew, axis=1, keepdims = True)\n",
    "        \n",
    "        quit = (pi == pinew).all()\n",
    "        pi = pinew\n",
    "    \n",
    "    \n",
    "\n",
    "    return pi\n",
    "    \n",
    "\n",
    "        \n",
    "    \n",
    "#######################\n",
    "\n",
    "cost_to_go = calc_cost_to_go()\n",
    "optimal_policy = calc_pol_iter()\n",
    "\n",
    "print \"Cost to Go:\"\n",
    "print cost_to_go\n",
    "print \"Optimal Policy:\"\n",
    "print optimal_policy\n",
    "\n",
    "\n"
   ]
  },
  {
   "cell_type": "markdown",
   "metadata": {
    "deletable": true,
    "editable": true
   },
   "source": [
    "---\n",
    "\n",
    "#### Activity 5\n",
    "\n",
    "For each of the beliefs computed in Activity 3, compute the action prescribed by:\n",
    "\n",
    "* The MLS heuristic;\n",
    "* The AV heuristic;\n",
    "* The Q-MDP heuristic.\n",
    "\n",
    "---"
   ]
  },
  {
   "cell_type": "code",
   "execution_count": 341,
   "metadata": {
    "collapsed": false,
    "deletable": true,
    "editable": true,
    "scrolled": false
   },
   "outputs": [
    {
     "name": "stdout",
     "output_type": "stream",
     "text": [
      "\n",
      "MLS Heuristic\n",
      "\n",
      "no action\n",
      "SelectDiamonds\n",
      "SelectDiamonds\n",
      "SelectDiamonds\n",
      "SelectClubs\n",
      "SelectClubs\n",
      "SelectClubs\n",
      "SelectClubs\n",
      "SelectClubs\n",
      "\n",
      "AV Heuristic\n",
      "\n",
      "no action\n",
      "SelectDiamonds\n",
      "SelectDiamonds\n",
      "SelectDiamonds\n",
      "SelectClubs\n",
      "SelectClubs\n",
      "SelectClubs\n",
      "SelectClubs\n",
      "SelectClubs\n"
     ]
    }
   ],
   "source": [
    "# Insert your code here\n",
    "\n",
    "\n",
    "\n",
    "def MLS(belief):\n",
    "    \n",
    "    if belief[:,0]>  b[:,1]:\n",
    "        return actions[0]\n",
    "    elif belief[:,0] < b[:,1]:\n",
    "        return actions[1]\n",
    "    else:\n",
    "        return \"no action\"\n",
    "    \n",
    "def AV(belief):\n",
    "    \n",
    "    clubs_weight = belief[:,0]\n",
    "    diamonds_weight = belief[:,1]\n",
    "    \n",
    "    if clubs_weight > diamonds_weight:\n",
    "        return actions[0]\n",
    "    elif clubs_weight < diamonds_weight:\n",
    "        return actions[1]\n",
    "    else:\n",
    "        return \"no action\"\n",
    "\n",
    "\n",
    "    \n",
    "print \"\\nMLS Heuristic\\n\"\n",
    "for b in unique_belief_list:\n",
    "    print MLS(b)\n",
    "   \n",
    "print \"\\nAV Heuristic\\n\"\n",
    "for b in unique_belief_list:\n",
    "    print AV(b)\n",
    "    \n",
    "    \n",
    "\n",
    "\n",
    "    \n",
    "        "
   ]
  },
  {
   "cell_type": "markdown",
   "metadata": {
    "deletable": true,
    "editable": true
   },
   "source": [
    "---\n",
    "\n",
    "#### Activity 6\n",
    "\n",
    "Suppose that the optimal cost-to-go function for the POMDP can be represented using the $\\alpha$-vectors\n",
    "\n",
    "$$\n",
    "\\left\\{\n",
    "\\begin{bmatrix}\n",
    "2.795\\\\\n",
    "3.795\n",
    "\\end{bmatrix},\n",
    "\\begin{bmatrix}\n",
    "3.795\\\\\n",
    "2.795\n",
    "\\end{bmatrix},\n",
    "\\begin{bmatrix}\n",
    "3.105\\\\\n",
    "3.105\n",
    "\\end{bmatrix}\\right\\}$$\n",
    "\n",
    "corresponding to the actions 'Guess clubs', 'Guess diamonds' and 'Peek', respectively. Represent the optimal cost-to-go function and compare the optimal policy with the MDP heuristics from Activity 5 in the beliefs computed in Activity 3.\n",
    "\n",
    "** Note: ** Don't forget to import `matplotlib`, and use the magic `%matplotlib notebook`.\n",
    "\n",
    "---"
   ]
  },
  {
   "cell_type": "code",
   "execution_count": 288,
   "metadata": {
    "collapsed": false,
    "deletable": true,
    "editable": true,
    "scrolled": false
   },
   "outputs": [
    {
     "data": {
      "image/png": "[encoded data removed]",
      "text/plain": [
       "<matplotlib.figure.Figure at 0x97d8080>"
      ]
     },
     "metadata": {},
     "output_type": "display_data"
    }
   ],
   "source": [
    "# Insert your code here\n",
    "import matplotlib.pyplot as plt\n",
    "plt.plot([2.795, 3.795])\n",
    "plt.plot([3.795, 2.795])\n",
    "plt.plot([3.105, 3.105])\n",
    "plt.plot([3.667, 3.667])\n",
    "\n",
    "for b in unique_belief_list:\n",
    "    plt.plot(b[0])\n",
    "\n",
    "plt.axis([0, 1, 0, 4])\n",
    "plt.show() "
   ]
  },
  {
   "cell_type": "code",
   "execution_count": null,
   "metadata": {
    "collapsed": true
   },
   "outputs": [],
   "source": [
    "# Insert your code here\n",
    "\n",
    "\n"
   ]
  },
  {
   "cell_type": "code",
   "execution_count": 336,
   "metadata": {
    "collapsed": false
   },
   "outputs": [
    {
     "name": "stdout",
     "output_type": "stream",
     "text": [
      "[[ 0.5  0.5]]\n",
      "[ 0.5]\n",
      "[ 0.5]\n"
     ]
    }
   ],
   "source": [
    "a = np.array([[0.5, 0.5]])\n",
    "b = np.array([[0.9, 0.1]])\n",
    "c = np.array([[0.988, 0.012]])\n",
    "#[array([[ 0.5,  0.5]]), array([[ 0.9,  0.1]]), array([[ 0.988,  0.012]])]\n",
    "list = [a, b, c]\n",
    "print a\n",
    "print a[:,0]\n",
    "print a[:,1]"
   ]
  },
  {
   "cell_type": "code",
   "execution_count": 218,
   "metadata": {
    "collapsed": false
   },
   "outputs": [
    {
     "ename": "TypeError",
     "evalue": "unsupported operand type(s) for /: 'list' and 'int'",
     "output_type": "error",
     "traceback": [
      "\u001b[0;31m---------------------------------------------------------------------------\u001b[0m",
      "\u001b[0;31mTypeError\u001b[0m                                 Traceback (most recent call last)",
      "\u001b[0;32m<ipython-input-218-5cdd4542d8f0>\u001b[0m in \u001b[0;36m<module>\u001b[0;34m()\u001b[0m\n\u001b[1;32m      1\u001b[0m \u001b[0ma\u001b[0m \u001b[1;33m=\u001b[0m \u001b[1;33m[\u001b[0m\u001b[1;36m1\u001b[0m\u001b[1;33m,\u001b[0m \u001b[1;36m2\u001b[0m\u001b[1;33m]\u001b[0m\u001b[1;33m\u001b[0m\u001b[0m\n\u001b[1;32m      2\u001b[0m \u001b[1;33m\u001b[0m\u001b[0m\n\u001b[0;32m----> 3\u001b[0;31m \u001b[1;32mprint\u001b[0m \u001b[0ma\u001b[0m\u001b[1;33m/\u001b[0m\u001b[1;36m2\u001b[0m\u001b[1;33m\u001b[0m\u001b[0m\n\u001b[0m",
      "\u001b[0;31mTypeError\u001b[0m: unsupported operand type(s) for /: 'list' and 'int'"
     ]
    }
   ],
   "source": [
    "a = [1, 2]\n",
    "\n",
    "print a/2"
   ]
  },
  {
   "cell_type": "code",
   "execution_count": 280,
   "metadata": {
    "collapsed": false
   },
   "outputs": [
    {
     "name": "stdout",
     "output_type": "stream",
     "text": [
      "[[0 1 0]\n",
      " [1 0 0]]\n",
      "[[ 0.5  0.5]]\n",
      "[[ 0.5  0.5  0. ]]\n"
     ]
    }
   ],
   "source": [
    "B = np.array([[0.5, 0.5]])\n",
    "\n",
    "OP = np.array([[0, 1, 0], [1, 0, 0]])\n",
    "\n",
    "\n",
    "print OP\n",
    "print B\n",
    "\n",
    "print B.dot(OP)"
   ]
  },
  {
   "cell_type": "code",
   "execution_count": null,
   "metadata": {
    "collapsed": true
   },
   "outputs": [],
   "source": []
  }
 ],
 "metadata": {
  "anaconda-cloud": {},
  "celltoolbar": "Raw Cell Format",
  "kernelspec": {
   "display_name": "Python [conda root]",
   "language": "python",
   "name": "conda-root-py"
  },
  "language_info": {
   "codemirror_mode": {
    "name": "ipython",
    "version": 2
   },
   "file_extension": ".py",
   "mimetype": "text/x-python",
   "name": "python",
   "nbconvert_exporter": "python",
   "pygments_lexer": "ipython2",
   "version": "2.7.12"
  }
 },
 "nbformat": 4,
 "nbformat_minor": 0
}
